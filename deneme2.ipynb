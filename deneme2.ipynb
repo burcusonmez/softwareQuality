{
 "cells": [
  {
   "cell_type": "code",
   "execution_count": 1,
   "metadata": {},
   "outputs": [],
   "source": [
    "# In this part the libraries are imported\n",
    "# Spark structure is setted.\n",
    "import os\n",
    "import time\n",
    "import datetime\n",
    "import hashlib\n",
    "import json\n",
    "import pandas as pd\n",
    "from pyspark.sql import SparkSession\n",
    "from pyspark.ml import Pipeline, PipelineModel\n",
    "from pyspark.ml.feature import VectorAssembler, PolynomialExpansion, OneHotEncoderEstimator, CountVectorizer, Binarizer, StringIndexer, QuantileDiscretizer\n",
    "import pyspark.sql.types as T\n",
    "import pyspark.sql.functions as F"
   ]
  },
  {
   "cell_type": "code",
   "execution_count": 2,
   "metadata": {},
   "outputs": [],
   "source": [
    "spark = SparkSession \\\n",
    "    .builder \\\n",
    "    .config('spark.app.name', 'Denek') \\\n",
    "    .config('spark.jars', '/home/appuser/ojdbc6.jar') \\\n",
    "    .config('spark.master', 'local[*]') \\\n",
    "    .config('spark.driver.memory', '100g') \\\n",
    "    .config('spark.driver.maxResultSize', '100g') \\\n",
    "    .config('spark.executer.memory', '1g') \\\n",
    "    .config('spark.executer.cores', '1000') \\\n",
    "    .config('spark.cores.max', '1000') \\\n",
    "    .config('spark.python.worker.memory', '1g') \\\n",
    "    .config('spark.sql.shuffle.partitions', '1000') \\\n",
    "    .config('spark.sql.broadcastTimeout', '36000') \\\n",
    "    .getOrCreate()\n",
    "sc = spark.sparkContext"
   ]
  },
  {
   "cell_type": "code",
   "execution_count": 20,
   "metadata": {},
   "outputs": [],
   "source": [
    "#df = spark.read.format(\"csv\").option(\"header\", \"true\").load(\"datasetAll.csv\")\n",
    "df = spark.read.csv('datasetAll.csv', header='true', inferSchema='true')"
   ]
  },
  {
   "cell_type": "code",
   "execution_count": 21,
   "metadata": {},
   "outputs": [
    {
     "name": "stdout",
     "output_type": "stream",
     "text": [
      "root\n",
      " |-- MIM-HourPerBrowsing: double (nullable = true)\n",
      " |-- MIM-NumEditEvent: integer (nullable = true)\n",
      " |-- MIM-NumRareBrws: double (nullable = true)\n",
      " |-- MIM-TimeSpent: double (nullable = true)\n",
      " |-- MIM-HourPerEditing: double (nullable = true)\n",
      " |-- MIM-NumEditingDevelopers: integer (nullable = true)\n",
      " |-- MIM-NumRareEdit: double (nullable = true)\n",
      " |-- MIM-TimeSpentAfterEdit: double (nullable = true)\n",
      " |-- MIM-MaxTimeIntervalBrwsBrws: double (nullable = true)\n",
      " |-- MIM-NumInterruptions: double (nullable = true)\n",
      " |-- MIM-NumRepeatedEdit: double (nullable = true)\n",
      " |-- MIM-TimeSpentBeforeEdit: double (nullable = true)\n",
      " |-- MIM-MaxTimeIntervalBrwsEdit: double (nullable = true)\n",
      " |-- MIM-NumParallelBrws: double (nullable = true)\n",
      " |-- MIM-NumSelectionEvent: integer (nullable = true)\n",
      " |-- MIM-MaxTimeIntervalEditEdit: double (nullable = true)\n",
      " |-- MIM-NumParallelEdit: double (nullable = true)\n",
      " |-- MIM-TimeSinceLastTask: double (nullable = true)\n",
      " |-- MIM-NumMultiTasks: double (nullable = true)\n",
      " |-- MIM-RatioCodeUnderstandingEffort: double (nullable = true)\n",
      " |-- MIM-NumRepeatedBrws: double (nullable = true)\n",
      " |-- MIM-AvgTimeIntervalEditEdit: double (nullable = true)\n",
      " |-- MIM-AvgTimeIntervalBrwsEdit: double (nullable = true)\n",
      " |-- MIM-AvgTimeIntervalBrwsBrws: double (nullable = true)\n",
      " |-- CM-AvgCyclomatic: integer (nullable = true)\n",
      " |-- CM-MaxCyclomaticStrict: integer (nullable = true)\n",
      " |-- CM-CountLine: integer (nullable = true)\n",
      " |-- CM-CountLineBlank: integer (nullable = true)\n",
      " |-- CM-RatioCommentToCode: double (nullable = true)\n",
      " |-- CM-MaxCyclomaticModified: integer (nullable = true)\n",
      " |-- CM-AvgCyclomaticModified: integer (nullable = true)\n",
      " |-- CM-AvgEssential: integer (nullable = true)\n",
      " |-- CM-CountDeclFunction: integer (nullable = true)\n",
      " |-- CM-CountStmtExe: integer (nullable = true)\n",
      " |-- CM-CountStmt: integer (nullable = true)\n",
      " |-- CM-CountLineCodeDecl: integer (nullable = true)\n",
      " |-- CM-CountSemicolon: integer (nullable = true)\n",
      " |-- CM-CountLineCode: integer (nullable = true)\n",
      " |-- CM-AvgCyclomaticStrict: integer (nullable = true)\n",
      " |-- CM-CountLineCodeExe: integer (nullable = true)\n",
      " |-- CM-MaxCyclomatic: integer (nullable = true)\n",
      " |-- CM-CountLineComment: integer (nullable = true)\n",
      " |-- CM-CountDeclClass: integer (nullable = true)\n",
      " |-- CM-CountStmtDecl: integer (nullable = true)\n",
      " |-- CM-SumCyclomaticStrict: integer (nullable = true)\n",
      " |-- CM-SumCyclomatic: integer (nullable = true)\n",
      " |-- CM-SumCyclomaticModified: integer (nullable = true)\n",
      " |-- CM-SumEssential: integer (nullable = true)\n",
      " |-- CM-AvgLine: double (nullable = true)\n",
      " |-- CM-AvgLineBlank: double (nullable = true)\n",
      " |-- CM-AvgLineCode: double (nullable = true)\n",
      " |-- CM-AvgLineComment: double (nullable = true)\n",
      " |-- CM-PercentLackOfCohesion: double (nullable = true)\n",
      " |-- CM-CountClassBase: integer (nullable = true)\n",
      " |-- CM-CountClassCoupled: integer (nullable = true)\n",
      " |-- CM-CountClassDerived: integer (nullable = true)\n",
      " |-- CM-CountDeclClassVariable: integer (nullable = true)\n",
      " |-- CM-CountDeclInstanceMethod: integer (nullable = true)\n",
      " |-- CM-CountDeclInstanceVariable: integer (nullable = true)\n",
      " |-- CM-CountDeclMethod: integer (nullable = true)\n",
      " |-- CM-CountDeclMethodAll: integer (nullable = true)\n",
      " |-- CM-CountDeclMethodDefault: integer (nullable = true)\n",
      " |-- CM-CountDeclMethodPrivate: integer (nullable = true)\n",
      " |-- CM-CountDeclMethodProtected: integer (nullable = true)\n",
      " |-- CM-CountDeclMethodPublic: integer (nullable = true)\n",
      " |-- CM-MaxInheritanceTree: integer (nullable = true)\n",
      " |-- HM-#ofBugFixing: integer (nullable = true)\n",
      " |-- HM-#OfRevision: integer (nullable = true)\n",
      " |-- HM-SumOfAddedLines: integer (nullable = true)\n",
      " |-- HM-SumOfRemovedLines: integer (nullable = true)\n",
      " |-- HM-MaxOfAddedLines: integer (nullable = true)\n",
      " |-- HM-MaxOfRemovedLines: integer (nullable = true)\n",
      " |-- HM-AvgOfAddedLines: integer (nullable = true)\n",
      " |-- HM-AvgOfRemovedLines: integer (nullable = true)\n",
      " |-- HM-NumOfRefactorings: integer (nullable = true)\n",
      " |-- HM-MaxCodeChurn: integer (nullable = true)\n",
      " |-- HM-SumOfCodeChurn: integer (nullable = true)\n",
      " |-- HM-AvgOfCodeChurn: double (nullable = true)\n",
      " |-- HM-NumOfAuthors: integer (nullable = true)\n",
      " |-- HM-Age: integer (nullable = true)\n",
      " |-- HM-WeightedAge: double (nullable = true)\n",
      " |-- Buggy: integer (nullable = true)\n",
      "\n"
     ]
    }
   ],
   "source": [
    "df.printSchema()"
   ]
  },
  {
   "cell_type": "code",
   "execution_count": 22,
   "metadata": {},
   "outputs": [
    {
     "data": {
      "text/html": [
       "<div>\n",
       "<style scoped>\n",
       "    .dataframe tbody tr th:only-of-type {\n",
       "        vertical-align: middle;\n",
       "    }\n",
       "\n",
       "    .dataframe tbody tr th {\n",
       "        vertical-align: top;\n",
       "    }\n",
       "\n",
       "    .dataframe thead th {\n",
       "        text-align: right;\n",
       "    }\n",
       "</style>\n",
       "<table border=\"1\" class=\"dataframe\">\n",
       "  <thead>\n",
       "    <tr style=\"text-align: right;\">\n",
       "      <th></th>\n",
       "      <th>0</th>\n",
       "      <th>1</th>\n",
       "      <th>2</th>\n",
       "      <th>3</th>\n",
       "      <th>4</th>\n",
       "    </tr>\n",
       "  </thead>\n",
       "  <tbody>\n",
       "    <tr>\n",
       "      <th>MIM-HourPerBrowsing</th>\n",
       "      <td>28.821882</td>\n",
       "      <td>28.459457</td>\n",
       "      <td>395.150632</td>\n",
       "      <td>0.008681</td>\n",
       "      <td>42.999096</td>\n",
       "    </tr>\n",
       "    <tr>\n",
       "      <th>MIM-NumEditEvent</th>\n",
       "      <td>97.000000</td>\n",
       "      <td>207.000000</td>\n",
       "      <td>503.000000</td>\n",
       "      <td>3.000000</td>\n",
       "      <td>488.000000</td>\n",
       "    </tr>\n",
       "    <tr>\n",
       "      <th>MIM-NumRareBrws</th>\n",
       "      <td>0.006329</td>\n",
       "      <td>0.043478</td>\n",
       "      <td>0.000000</td>\n",
       "      <td>0.000000</td>\n",
       "      <td>0.032051</td>\n",
       "    </tr>\n",
       "    <tr>\n",
       "      <th>MIM-TimeSpent</th>\n",
       "      <td>340.090761</td>\n",
       "      <td>372.069971</td>\n",
       "      <td>600.970585</td>\n",
       "      <td>16.967153</td>\n",
       "      <td>201.214293</td>\n",
       "    </tr>\n",
       "    <tr>\n",
       "      <th>MIM-HourPerEditing</th>\n",
       "      <td>30.598791</td>\n",
       "      <td>4.285104</td>\n",
       "      <td>384.589949</td>\n",
       "      <td>0.014167</td>\n",
       "      <td>17.916694</td>\n",
       "    </tr>\n",
       "    <tr>\n",
       "      <th>...</th>\n",
       "      <td>...</td>\n",
       "      <td>...</td>\n",
       "      <td>...</td>\n",
       "      <td>...</td>\n",
       "      <td>...</td>\n",
       "    </tr>\n",
       "    <tr>\n",
       "      <th>HM-AvgOfCodeChurn</th>\n",
       "      <td>-2.139535</td>\n",
       "      <td>-2.777778</td>\n",
       "      <td>0.700000</td>\n",
       "      <td>0.000000</td>\n",
       "      <td>1.875000</td>\n",
       "    </tr>\n",
       "    <tr>\n",
       "      <th>HM-NumOfAuthors</th>\n",
       "      <td>3.000000</td>\n",
       "      <td>2.000000</td>\n",
       "      <td>3.000000</td>\n",
       "      <td>1.000000</td>\n",
       "      <td>4.000000</td>\n",
       "    </tr>\n",
       "    <tr>\n",
       "      <th>HM-Age</th>\n",
       "      <td>4.000000</td>\n",
       "      <td>104.000000</td>\n",
       "      <td>46.000000</td>\n",
       "      <td>387.000000</td>\n",
       "      <td>75.000000</td>\n",
       "    </tr>\n",
       "    <tr>\n",
       "      <th>HM-WeightedAge</th>\n",
       "      <td>51.693779</td>\n",
       "      <td>46.436462</td>\n",
       "      <td>75.728645</td>\n",
       "      <td>166.000000</td>\n",
       "      <td>49.953075</td>\n",
       "    </tr>\n",
       "    <tr>\n",
       "      <th>Buggy</th>\n",
       "      <td>0.000000</td>\n",
       "      <td>1.000000</td>\n",
       "      <td>1.000000</td>\n",
       "      <td>0.000000</td>\n",
       "      <td>1.000000</td>\n",
       "    </tr>\n",
       "  </tbody>\n",
       "</table>\n",
       "<p>82 rows × 5 columns</p>\n",
       "</div>"
      ],
      "text/plain": [
       "                              0           1           2           3  \\\n",
       "MIM-HourPerBrowsing   28.821882   28.459457  395.150632    0.008681   \n",
       "MIM-NumEditEvent      97.000000  207.000000  503.000000    3.000000   \n",
       "MIM-NumRareBrws        0.006329    0.043478    0.000000    0.000000   \n",
       "MIM-TimeSpent        340.090761  372.069971  600.970585   16.967153   \n",
       "MIM-HourPerEditing    30.598791    4.285104  384.589949    0.014167   \n",
       "...                         ...         ...         ...         ...   \n",
       "HM-AvgOfCodeChurn     -2.139535   -2.777778    0.700000    0.000000   \n",
       "HM-NumOfAuthors        3.000000    2.000000    3.000000    1.000000   \n",
       "HM-Age                 4.000000  104.000000   46.000000  387.000000   \n",
       "HM-WeightedAge        51.693779   46.436462   75.728645  166.000000   \n",
       "Buggy                  0.000000    1.000000    1.000000    0.000000   \n",
       "\n",
       "                              4  \n",
       "MIM-HourPerBrowsing   42.999096  \n",
       "MIM-NumEditEvent     488.000000  \n",
       "MIM-NumRareBrws        0.032051  \n",
       "MIM-TimeSpent        201.214293  \n",
       "MIM-HourPerEditing    17.916694  \n",
       "...                         ...  \n",
       "HM-AvgOfCodeChurn      1.875000  \n",
       "HM-NumOfAuthors        4.000000  \n",
       "HM-Age                75.000000  \n",
       "HM-WeightedAge        49.953075  \n",
       "Buggy                  1.000000  \n",
       "\n",
       "[82 rows x 5 columns]"
      ]
     },
     "execution_count": 22,
     "metadata": {},
     "output_type": "execute_result"
    }
   ],
   "source": [
    "df.select(\"*\").toPandas().head().transpose()"
   ]
  },
  {
   "cell_type": "markdown",
   "metadata": {},
   "source": [
    "## Summary Statistics"
   ]
  },
  {
   "cell_type": "code",
   "execution_count": 23,
   "metadata": {},
   "outputs": [
    {
     "data": {
      "text/html": [
       "<div>\n",
       "<style scoped>\n",
       "    .dataframe tbody tr th:only-of-type {\n",
       "        vertical-align: middle;\n",
       "    }\n",
       "\n",
       "    .dataframe tbody tr th {\n",
       "        vertical-align: top;\n",
       "    }\n",
       "\n",
       "    .dataframe thead th {\n",
       "        text-align: right;\n",
       "    }\n",
       "</style>\n",
       "<table border=\"1\" class=\"dataframe\">\n",
       "  <thead>\n",
       "    <tr style=\"text-align: right;\">\n",
       "      <th></th>\n",
       "      <th>0</th>\n",
       "      <th>1</th>\n",
       "      <th>2</th>\n",
       "      <th>3</th>\n",
       "      <th>4</th>\n",
       "    </tr>\n",
       "  </thead>\n",
       "  <tbody>\n",
       "    <tr>\n",
       "      <th>summary</th>\n",
       "      <td>count</td>\n",
       "      <td>mean</td>\n",
       "      <td>stddev</td>\n",
       "      <td>min</td>\n",
       "      <td>max</td>\n",
       "    </tr>\n",
       "    <tr>\n",
       "      <th>MIM-HourPerBrowsing</th>\n",
       "      <td>3077</td>\n",
       "      <td>70.65785016249538</td>\n",
       "      <td>243.89191382130255</td>\n",
       "      <td>2.78E-4</td>\n",
       "      <td>7562.35375</td>\n",
       "    </tr>\n",
       "    <tr>\n",
       "      <th>MIM-NumEditEvent</th>\n",
       "      <td>3077</td>\n",
       "      <td>55.145271368215795</td>\n",
       "      <td>262.997825708884</td>\n",
       "      <td>0</td>\n",
       "      <td>9674</td>\n",
       "    </tr>\n",
       "    <tr>\n",
       "      <th>MIM-NumRareBrws</th>\n",
       "      <td>3077</td>\n",
       "      <td>0.32616039616509535</td>\n",
       "      <td>2.1964266409497593</td>\n",
       "      <td>0.0</td>\n",
       "      <td>40.0</td>\n",
       "    </tr>\n",
       "    <tr>\n",
       "      <th>MIM-TimeSpent</th>\n",
       "      <td>3077</td>\n",
       "      <td>286.3162544033142</td>\n",
       "      <td>340.40288321507506</td>\n",
       "      <td>0.0</td>\n",
       "      <td>4565.021389</td>\n",
       "    </tr>\n",
       "    <tr>\n",
       "      <th>...</th>\n",
       "      <td>...</td>\n",
       "      <td>...</td>\n",
       "      <td>...</td>\n",
       "      <td>...</td>\n",
       "      <td>...</td>\n",
       "    </tr>\n",
       "    <tr>\n",
       "      <th>HM-AvgOfCodeChurn</th>\n",
       "      <td>3077</td>\n",
       "      <td>2.9261295622359436</td>\n",
       "      <td>8.288800842970602</td>\n",
       "      <td>-43.153846</td>\n",
       "      <td>110.625</td>\n",
       "    </tr>\n",
       "    <tr>\n",
       "      <th>HM-NumOfAuthors</th>\n",
       "      <td>3077</td>\n",
       "      <td>2.571010724731882</td>\n",
       "      <td>1.6497363698291188</td>\n",
       "      <td>0</td>\n",
       "      <td>12</td>\n",
       "    </tr>\n",
       "    <tr>\n",
       "      <th>HM-Age</th>\n",
       "      <td>3077</td>\n",
       "      <td>106.85505362365942</td>\n",
       "      <td>83.14677387502485</td>\n",
       "      <td>0</td>\n",
       "      <td>424</td>\n",
       "    </tr>\n",
       "    <tr>\n",
       "      <th>HM-WeightedAge</th>\n",
       "      <td>3077</td>\n",
       "      <td>76.27783309912242</td>\n",
       "      <td>52.01435025014985</td>\n",
       "      <td>0.0</td>\n",
       "      <td>193.0</td>\n",
       "    </tr>\n",
       "    <tr>\n",
       "      <th>Buggy</th>\n",
       "      <td>3077</td>\n",
       "      <td>0.16737081572960677</td>\n",
       "      <td>0.37336728653760487</td>\n",
       "      <td>0</td>\n",
       "      <td>1</td>\n",
       "    </tr>\n",
       "  </tbody>\n",
       "</table>\n",
       "<p>83 rows × 5 columns</p>\n",
       "</div>"
      ],
      "text/plain": [
       "                         0                    1                    2  \\\n",
       "summary              count                 mean               stddev   \n",
       "MIM-HourPerBrowsing   3077    70.65785016249538   243.89191382130255   \n",
       "MIM-NumEditEvent      3077   55.145271368215795     262.997825708884   \n",
       "MIM-NumRareBrws       3077  0.32616039616509535   2.1964266409497593   \n",
       "MIM-TimeSpent         3077    286.3162544033142   340.40288321507506   \n",
       "...                    ...                  ...                  ...   \n",
       "HM-AvgOfCodeChurn     3077   2.9261295622359436    8.288800842970602   \n",
       "HM-NumOfAuthors       3077    2.571010724731882   1.6497363698291188   \n",
       "HM-Age                3077   106.85505362365942    83.14677387502485   \n",
       "HM-WeightedAge        3077    76.27783309912242    52.01435025014985   \n",
       "Buggy                 3077  0.16737081572960677  0.37336728653760487   \n",
       "\n",
       "                              3            4  \n",
       "summary                     min          max  \n",
       "MIM-HourPerBrowsing     2.78E-4   7562.35375  \n",
       "MIM-NumEditEvent              0         9674  \n",
       "MIM-NumRareBrws             0.0         40.0  \n",
       "MIM-TimeSpent               0.0  4565.021389  \n",
       "...                         ...          ...  \n",
       "HM-AvgOfCodeChurn    -43.153846      110.625  \n",
       "HM-NumOfAuthors               0           12  \n",
       "HM-Age                        0          424  \n",
       "HM-WeightedAge              0.0        193.0  \n",
       "Buggy                         0            1  \n",
       "\n",
       "[83 rows x 5 columns]"
      ]
     },
     "execution_count": 23,
     "metadata": {},
     "output_type": "execute_result"
    }
   ],
   "source": [
    "numeric_features = [t[0] for t in df.dtypes if t[1] == 'int' or t[1] == 'double']\n",
    "df.describe(numeric_features).toPandas().transpose()"
   ]
  },
  {
   "cell_type": "markdown",
   "metadata": {},
   "source": [
    "## Correlations and Data Preparation"
   ]
  },
  {
   "cell_type": "code",
   "execution_count": 17,
   "metadata": {},
   "outputs": [
    {
     "name": "stdout",
     "output_type": "stream",
     "text": [
      "The sampled dataset contains 146 samples.\n"
     ]
    }
   ],
   "source": [
    "sampled_data = df.select(numeric_features).sample(False, 0.05)\n",
    "print(\"The sampled dataset contains {} samples.\".format(sampled_data.count()))"
   ]
  },
  {
   "cell_type": "code",
   "execution_count": null,
   "metadata": {},
   "outputs": [],
   "source": [
    "import matplotlib.pyplot as plt\n",
    "import seaborn as sns\n",
    "sns.set(style=\"ticks\")\n",
    "\n",
    "g = sns.pairplot(sampled_data.toPandas(), diag_kind=\"kde\")\n",
    "g.fig.subplots_adjust(top=0.93, wspace=0.2)\n",
    "g.fig.suptitle('Bug Attributes Pairwise Plots', fontsize=18, fontweight='bold')"
   ]
  },
  {
   "cell_type": "markdown",
   "metadata": {},
   "source": [
    "## Using the Spark MLlib Package"
   ]
  },
  {
   "cell_type": "code",
   "execution_count": 26,
   "metadata": {},
   "outputs": [
    {
     "name": "stdout",
     "output_type": "stream",
     "text": [
      "The two first rows of the training data RDD:\n",
      "[LabeledPoint(1.0, [28.459457,207.0,0.043478,372.069971,4.285104,4.0,0.0,104.128819,2810.553889,11.322981,6.099379,80.158845,2810.563056,18.857143,160.0,2810.565833,9.018634,811.101111,8.099379,0.79234,10.745342,732.841892,416.400144,327.445168,2.0,6.0,68.0,10.0,0.35,5.0,2.0,1.0,4.0,11.0,32.0,20.0,22.0,43.0,2.0,14.0,5.0,15.0,2.0,21.0,9.0,8.0,8.0,6.0,1.0,0.0,1.0,0.0,0.0,2.0,2.0,0.0,0.0,2.0,0.0,2.0,2.0,0.0,0.0,0.0,2.0,1.0,50.0,18.0,181.0,231.0,51.0,132.0,10.0,12.0,0.0,24.0,-50.0,-2.777778,2.0,104.0,46.436462]), LabeledPoint(1.0, [395.150632,503.0,0.0,600.970585,384.589949,1.0,0.0,473.460556,5084.036667,11.315789,3.631579,0.134872,5084.204444,17.947368,565.0,5084.204722,6.789474,5885.3525,3.421053,0.736879,8.684211,247.238067,155.983594,137.132662,2.0,21.0,1309.0,96.0,0.62,21.0,2.0,1.0,66.0,387.0,612.0,224.0,426.0,793.0,3.0,423.0,21.0,488.0,2.0,225.0,207.0,192.0,189.0,104.0,0.875,0.0,0.875,0.0,0.0,2.0,2.0,0.0,0.0,1.0,0.0,1.0,8.0,0.0,0.0,0.0,1.0,1.0,38.0,130.0,199.0,108.0,65.0,42.0,1.0,0.0,0.0,23.0,91.0,0.7,3.0,46.0,75.728645])]\n",
      "============================\n",
      "DecisionTreeModel classifier of depth 1 with 3 nodes\n",
      "  If (feature 1 <= 0.5)\n",
      "   Predict: 1.0\n",
      "  Else (feature 1 > 0.5)\n",
      "   Predict: 0.0\n",
      "\n"
     ]
    }
   ],
   "source": [
    "from pyspark.mllib.regression import LabeledPoint\n",
    "from pyspark.mllib.tree import DecisionTree\n",
    "\n",
    "def labelData(data):\n",
    "    # label: row[end], features: row[0:end-1]\n",
    "    return data.rdd.map(lambda row: LabeledPoint(row[-1], row[:-1]))\n",
    "\n",
    "training_data, testing_data = labelData(df).randomSplit([0.8, 0.2])\n",
    "\n",
    "print(\"The two first rows of the training data RDD:\")\n",
    "print(training_data.take(2))\n",
    "print(\"============================\")\n",
    "\n",
    "model = DecisionTree.trainClassifier(training_data, numClasses=2, maxDepth=2,\n",
    "                                     categoricalFeaturesInfo={},\n",
    "                                     impurity='gini', maxBins=32)\n",
    "print(model.toDebugString())"
   ]
  },
  {
   "cell_type": "code",
   "execution_count": 27,
   "metadata": {},
   "outputs": [
    {
     "name": "stdout",
     "output_type": "stream",
     "text": [
      "Feature 1 is the MIM-NumEditEvent.\n"
     ]
    }
   ],
   "source": [
    "print(\"Feature 1 is the {}.\".format(df.columns[1]))"
   ]
  },
  {
   "cell_type": "code",
   "execution_count": 29,
   "metadata": {},
   "outputs": [],
   "source": [
    "def printAllMetrics(predictionsDF):\n",
    "  predictionsDF.groupBy('label', 'predictedLabel').count().show()\n",
    "  print(\"=*=*=*=*=*=*=*=*=*=*=*=*=*=\")\n",
    "  TP = predictionsDF.select(\"label\", \"predictedLabel\").filter(\"label == 1.0 and predictedLabel == 1.0\").count()\n",
    "  FN = predictionsDF.select(\"label\", \"predictedLabel\").filter(\"label == 1.0 and predictedLabel == 0.0\").count()\n",
    "  TN = predictionsDF.select(\"label\", \"predictedLabel\").filter(\"label == 0.0 and predictedLabel == 0.0\").count()\n",
    "  FP = predictionsDF.select(\"label\", \"predictedLabel\").filter(\"label == 0.0 and predictedLabel == 1.0\").count()\n",
    "\n",
    "  precision_p   = TP/(TP+FP)\n",
    "  precision_n   = TN/(TN+FN)\n",
    "  recall_p      = TP/(TP+FN)\n",
    "  recall_n      = TN/(TN+FP)\n",
    "  f1_p          = 2*precision_p*recall_p/(precision_p+recall_p)\n",
    "  f1_n          = 2*precision_n*recall_n/(precision_n+recall_n)\n",
    "  avg_precision = (precision_p*(TP+FN)+precision_n*(TN+FP))/(TP+FN+TN+FP)\n",
    "  avg_recall    = (recall_p*(TP+FN)+recall_n*(TN+FP))/(TP+FN+TN+FP)\n",
    "  avg_f1        = (f1_p*(TP+FN)+f1_n*(TN+FP))/(TP+FN+TN+FP)\n",
    "  accuracy      = (TN+TP)/(TP+FN+TN+FP)\n",
    " \n",
    "  print('Precision of True    ', precision_p)\n",
    "  print('Precision of False   ', precision_n)\n",
    "  print('** Avg Precision     ', avg_precision)\n",
    "  print('Recall of True       ', recall_p)\n",
    "  print('Recall of False      ', recall_n)\n",
    "  print('** Avg Recall        ', avg_recall)\n",
    "  print('F1 of True           ', f1_p)\n",
    "  print('F1 of False          ', f1_n)\n",
    "  print('** Avg F1            ', avg_f1)\n",
    "  print('** Accuracy          ', accuracy)"
   ]
  },
  {
   "cell_type": "code",
   "execution_count": 30,
   "metadata": {},
   "outputs": [],
   "source": [
    "from pyspark.mllib.evaluation import MulticlassMetrics\n",
    "\n",
    "def getPredictionsLabels(model, test_data):\n",
    "  predictions = model.predict(test_data.map(lambda r: r.features))\n",
    "  return predictions.zip(test_data.map(lambda r: r.label))\n",
    "\n",
    "def printMetrics(predictions_and_labels):\n",
    "  metrics = MulticlassMetrics(predictions_and_labels)\n",
    "  print('Confusion Matrix\\n', metrics.confusionMatrix().toArray())\n",
    "  print('Precision of True    ', metrics.precision(1))\n",
    "  print('Precision of False   ', metrics.precision(0))\n",
    "  print('Weighted Precision   ', metrics.weightedPrecision)\n",
    "  print('Recall of True       ', metrics.recall(1))\n",
    "  print('Recall of False      ', metrics.recall(0))\n",
    "  print('Weighted Recall      ', metrics.weightedRecall) \n",
    "  print('FMeasure of True     ', metrics.fMeasure(1.0, 1.0))\n",
    "  print('FMeasure of False    ', metrics.fMeasure(0.0, 1.0))\n",
    "  print('Weighted fMeasure    ', metrics.weightedFMeasure())\n",
    "  print('Accuracy             ', metrics.accuracy)"
   ]
  },
  {
   "cell_type": "code",
   "execution_count": 31,
   "metadata": {},
   "outputs": [
    {
     "name": "stdout",
     "output_type": "stream",
     "text": [
      "Confusion Matrix\n",
      " [[483.  18.]\n",
      " [ 72.  32.]]\n",
      "Precision of True     0.64\n",
      "Precision of False    0.8702702702702703\n",
      "Weighted Precision    0.8306866205048024\n",
      "Recall of True        0.3076923076923077\n",
      "Recall of False       0.9640718562874252\n",
      "Weighted Recall       0.8512396694214875\n",
      "FMeasure of True      0.4155844155844156\n",
      "FMeasure of False     0.9147727272727274\n",
      "Weighted fMeasure     0.8289618439411829\n",
      "Accuracy              0.8512396694214877\n"
     ]
    }
   ],
   "source": [
    "predictions_and_labels = getPredictionsLabels(model, testing_data).cache()\n",
    "printMetrics(predictions_and_labels)"
   ]
  },
  {
   "cell_type": "code",
   "execution_count": 32,
   "metadata": {},
   "outputs": [
    {
     "name": "stdout",
     "output_type": "stream",
     "text": [
      "+-----+--------------+-----+\n",
      "|label|predictedLabel|count|\n",
      "+-----+--------------+-----+\n",
      "|  1.0|           1.0|   32|\n",
      "|  0.0|           1.0|   18|\n",
      "|  1.0|           0.0|   72|\n",
      "|  0.0|           0.0|  483|\n",
      "+-----+--------------+-----+\n",
      "\n",
      "=*=*=*=*=*=*=*=*=*=*=*=*=*=\n",
      "Precision of True     0.64\n",
      "Precision of False    0.8702702702702703\n",
      "** Avg Precision      0.8306866205048022\n",
      "Recall of True        0.3076923076923077\n",
      "Recall of False       0.9640718562874252\n",
      "** Avg Recall         0.8512396694214877\n",
      "F1 of True            0.4155844155844156\n",
      "F1 of False           0.9147727272727274\n",
      "** Avg F1             0.8289618439411829\n",
      "** Accuracy           0.8512396694214877\n"
     ]
    }
   ],
   "source": [
    "predictionsdf = predictions_and_labels.toDF([\"predictedLabel\",\"label\"])\n",
    "printAllMetrics(predictionsdf)"
   ]
  },
  {
   "cell_type": "code",
   "execution_count": 33,
   "metadata": {},
   "outputs": [
    {
     "name": "stdout",
     "output_type": "stream",
     "text": [
      "+-----+-----+\n",
      "|Buggy|count|\n",
      "+-----+-----+\n",
      "|    1|  515|\n",
      "|    0| 2562|\n",
      "+-----+-----+\n",
      "\n"
     ]
    }
   ],
   "source": [
    "df.groupby('Buggy').count().show()"
   ]
  },
  {
   "cell_type": "code",
   "execution_count": 34,
   "metadata": {},
   "outputs": [
    {
     "data": {
      "image/png": "[encoded data removed]",
      "text/plain": [
       "<Figure size 432x288 with 1 Axes>"
      ]
     },
     "metadata": {},
     "output_type": "display_data"
    }
   ],
   "source": [
    "import matplotlib.pyplot as plt\n",
    "# Pie chart\n",
    "labels = df.groupby('Buggy').count().toPandas().Buggy.tolist()\n",
    "sizes = df.groupby('Buggy').count().toPandas()[\"count\"].tolist()\n",
    "explode = (0, 0)  \n",
    "fig1, ax1 = plt.subplots()\n",
    "ax1.pie(sizes, explode=explode, labels=labels, autopct='%1.1f%%',\n",
    "        shadow=True, startangle=90)\n",
    "ax1.axis('equal')  \n",
    "plt.tight_layout()\n",
    "plt.show()"
   ]
  },
  {
   "cell_type": "markdown",
   "metadata": {},
   "source": [
    "## Stratified Sampling"
   ]
  },
  {
   "cell_type": "code",
   "execution_count": 35,
   "metadata": {},
   "outputs": [
    {
     "name": "stdout",
     "output_type": "stream",
     "text": [
      "+-----+-----+\n",
      "|Buggy|count|\n",
      "+-----+-----+\n",
      "|    1|  515|\n",
      "|    0|  518|\n",
      "+-----+-----+\n",
      "\n"
     ]
    }
   ],
   "source": [
    "stratified_data = df.sampleBy('Buggy', fractions={0: df.select(\"Buggy\").where('Buggy == 1').count()/ df.select(\"Buggy\").where('Buggy == 0').count(), 1: 1.0}, seed = 5323)\n",
    "stratified_data.groupby('Buggy').count().show()"
   ]
  },
  {
   "cell_type": "code",
   "execution_count": 36,
   "metadata": {},
   "outputs": [
    {
     "data": {
      "image/png": "[encoded data removed]",
      "text/plain": [
       "<Figure size 432x288 with 1 Axes>"
      ]
     },
     "metadata": {},
     "output_type": "display_data"
    }
   ],
   "source": [
    "labels = stratified_data.groupby('Buggy').count().toPandas().Buggy.tolist()\n",
    "sizes = stratified_data.groupby('Buggy').count().toPandas()[\"count\"].tolist()\n",
    "explode = (0, 0)  \n",
    "fig1, ax1 = plt.subplots()\n",
    "ax1.pie(sizes, explode=explode, labels=labels, autopct='%1.1f%%',\n",
    "        shadow=True, startangle=90)\n",
    "ax1.axis('equal')  \n",
    "plt.tight_layout()\n",
    "plt.show()"
   ]
  },
  {
   "cell_type": "code",
   "execution_count": 37,
   "metadata": {},
   "outputs": [
    {
     "name": "stdout",
     "output_type": "stream",
     "text": [
      "Confusion Matrix\n",
      " [[44. 57.]\n",
      " [33. 75.]]\n",
      "Precision of True     0.5681818181818182\n",
      "Precision of False    0.5714285714285714\n",
      "Weighted Precision    0.56975082333934\n",
      "Recall of True        0.6944444444444444\n",
      "Recall of False       0.43564356435643564\n",
      "Weighted Recall       0.569377990430622\n",
      "FMeasure of True      0.625\n",
      "FMeasure of False     0.49438202247191015\n",
      "Weighted fMeasure     0.5618783936347509\n",
      "Accuracy              0.569377990430622\n",
      "========================================\n",
      "+-----+--------------+-----+\n",
      "|label|predictedLabel|count|\n",
      "+-----+--------------+-----+\n",
      "|  1.0|           1.0|   75|\n",
      "|  0.0|           1.0|   57|\n",
      "|  1.0|           0.0|   33|\n",
      "|  0.0|           0.0|   44|\n",
      "+-----+--------------+-----+\n",
      "\n",
      "=*=*=*=*=*=*=*=*=*=*=*=*=*=\n",
      "Precision of True     0.5681818181818182\n",
      "Precision of False    0.5714285714285714\n",
      "** Avg Precision      0.56975082333934\n",
      "Recall of True        0.6944444444444444\n",
      "Recall of False       0.43564356435643564\n",
      "** Avg Recall         0.569377990430622\n",
      "F1 of True            0.625\n",
      "F1 of False           0.49438202247191015\n",
      "** Avg F1             0.5618783936347508\n",
      "** Accuracy           0.569377990430622\n"
     ]
    }
   ],
   "source": [
    "training_data, testing_data = labelData(stratified_data).randomSplit([0.8, 0.2])\n",
    "model = DecisionTree.trainClassifier(training_data, numClasses=2, maxDepth=2, categoricalFeaturesInfo={}, impurity='gini', maxBins=32)\n",
    "\n",
    "predictions_and_labels = getPredictionsLabels(model, testing_data).cache()\n",
    "printMetrics(predictions_and_labels)\n",
    "print(\"========================================\")\n",
    "predictionsdf = predictions_and_labels.toDF([\"predictedLabel\",\"label\"])\n",
    "printAllMetrics(predictionsdf)"
   ]
  },
  {
   "cell_type": "markdown",
   "metadata": {},
   "source": [
    "## Using the Spark ML Package"
   ]
  },
  {
   "cell_type": "code",
   "execution_count": 40,
   "metadata": {},
   "outputs": [],
   "source": [
    "from pyspark.ml.feature import StringIndexer, VectorIndexer, VectorAssembler\n",
    "from pyspark.ml import Pipeline\n",
    "\n",
    "def get_dummy(df, numericCols, labelCol):\n",
    "  # Combining a given list of columns into a single vector column features\n",
    "  assembler = VectorAssembler(inputCols=numericCols, outputCol=\"features\")\n",
    "  # Index labels, adding metadata to the label column\n",
    "  indexer = StringIndexer(inputCol=labelCol, outputCol='indexedLabel')\n",
    "  # Automatically identify categorical features and index them\n",
    "  featureIndexer = VectorIndexer(inputCol=\"features\", outputCol=\"indexedFeatures\", maxCategories=2)\n",
    "  pipeline = Pipeline(stages = [assembler] + [indexer] + [featureIndexer])\n",
    "  model = pipeline.fit(df)\n",
    "  data = model.transform(df)\n",
    "  data = data.withColumn('label', F.col(labelCol))\n",
    "  return data.select('features', 'label', 'indexedFeatures', 'indexedLabel')"
   ]
  },
  {
   "cell_type": "code",
   "execution_count": 43,
   "metadata": {},
   "outputs": [],
   "source": [
    "numericCols = stratified_data.columns\n",
    "numericCols.remove(\"Buggy\")\n",
    "\n",
    "vectorized_data = get_dummy(df, numericCols, \"Buggy\")\n",
    "vectorized_stratified_data = get_dummy(stratified_data, numericCols, \"Buggy\")"
   ]
  },
  {
   "cell_type": "code",
   "execution_count": 44,
   "metadata": {},
   "outputs": [
    {
     "name": "stdout",
     "output_type": "stream",
     "text": [
      "+-------------------------------------------------------------------------------------------------------------------------------------------------------------------------------------------------------------------------------------------------------------------------------------------------------------------------------------------------------------------------------------------------------------------------------------------------------------------------------------------------------------------------+-----+-------------------------------------------------------------------------------------------------------------------------------------------------------------------------------------------------------------------------------------------------------------------------------------------------------------------------------------------------------------------------------------------------------------------------------------------------------------------------------------------------------------------------+------------+\n",
      "|features                                                                                                                                                                                                                                                                                                                                                                                                                                                                                                                 |label|indexedFeatures                                                                                                                                                                                                                                                                                                                                                                                                                                                                                                          |indexedLabel|\n",
      "+-------------------------------------------------------------------------------------------------------------------------------------------------------------------------------------------------------------------------------------------------------------------------------------------------------------------------------------------------------------------------------------------------------------------------------------------------------------------------------------------------------------------------+-----+-------------------------------------------------------------------------------------------------------------------------------------------------------------------------------------------------------------------------------------------------------------------------------------------------------------------------------------------------------------------------------------------------------------------------------------------------------------------------------------------------------------------------+------------+\n",
      "|[28.459457,207.0,0.043478,372.069971,4.285104,4.0,0.0,104.128819,2810.553889,11.322981,6.099379,80.158845,2810.563056,18.857143,160.0,2810.565833,9.018634,811.101111,8.099379,0.79234,10.745342,732.841892,416.400144,327.445168,2.0,6.0,68.0,10.0,0.35,5.0,2.0,1.0,4.0,11.0,32.0,20.0,22.0,43.0,2.0,14.0,5.0,15.0,2.0,21.0,9.0,8.0,8.0,6.0,1.0,0.0,1.0,0.0,0.0,2.0,2.0,0.0,0.0,2.0,0.0,2.0,2.0,0.0,0.0,0.0,2.0,1.0,50.0,18.0,181.0,231.0,51.0,132.0,10.0,12.0,0.0,24.0,-50.0,-2.777778,2.0,104.0,46.436462]            |1    |[28.459457,207.0,0.043478,372.069971,4.285104,4.0,0.0,104.128819,2810.553889,11.322981,6.099379,80.158845,2810.563056,18.857143,160.0,2810.565833,9.018634,811.101111,8.099379,0.79234,10.745342,732.841892,416.400144,327.445168,2.0,6.0,68.0,10.0,0.35,5.0,2.0,1.0,4.0,11.0,32.0,20.0,22.0,43.0,2.0,14.0,5.0,15.0,2.0,21.0,9.0,8.0,8.0,6.0,1.0,0.0,1.0,0.0,0.0,2.0,2.0,0.0,0.0,2.0,0.0,2.0,2.0,0.0,0.0,0.0,2.0,1.0,50.0,18.0,181.0,231.0,51.0,132.0,10.0,12.0,0.0,24.0,-50.0,-2.777778,2.0,104.0,46.436462]            |1.0         |\n",
      "|[395.150632,503.0,0.0,600.970585,384.589949,1.0,0.0,473.460556,5084.036667,11.315789,3.631579,0.134872,5084.204444,17.947368,565.0,5084.204722,6.789474,5885.3525,3.421053,0.736879,8.684211,247.238067,155.983594,137.132662,2.0,21.0,1309.0,96.0,0.62,21.0,2.0,1.0,66.0,387.0,612.0,224.0,426.0,793.0,3.0,423.0,21.0,488.0,2.0,225.0,207.0,192.0,189.0,104.0,0.875,0.0,0.875,0.0,0.0,2.0,2.0,0.0,0.0,1.0,0.0,1.0,8.0,0.0,0.0,0.0,1.0,1.0,38.0,130.0,199.0,108.0,65.0,42.0,1.0,0.0,0.0,23.0,91.0,0.7,3.0,46.0,75.728645]|1    |[395.150632,503.0,0.0,600.970585,384.589949,1.0,0.0,473.460556,5084.036667,11.315789,3.631579,0.134872,5084.204444,17.947368,565.0,5084.204722,6.789474,5885.3525,3.421053,0.736879,8.684211,247.238067,155.983594,137.132662,2.0,21.0,1309.0,96.0,0.62,21.0,2.0,1.0,66.0,387.0,612.0,224.0,426.0,793.0,3.0,423.0,21.0,488.0,2.0,225.0,207.0,192.0,189.0,104.0,0.875,0.0,0.875,0.0,0.0,2.0,2.0,0.0,0.0,1.0,0.0,1.0,8.0,0.0,0.0,0.0,1.0,1.0,38.0,130.0,199.0,108.0,65.0,42.0,1.0,0.0,0.0,23.0,91.0,0.7,3.0,46.0,75.728645]|1.0         |\n",
      "+-------------------------------------------------------------------------------------------------------------------------------------------------------------------------------------------------------------------------------------------------------------------------------------------------------------------------------------------------------------------------------------------------------------------------------------------------------------------------------------------------------------------------+-----+-------------------------------------------------------------------------------------------------------------------------------------------------------------------------------------------------------------------------------------------------------------------------------------------------------------------------------------------------------------------------------------------------------------------------------------------------------------------------------------------------------------------------+------------+\n",
      "only showing top 2 rows\n",
      "\n"
     ]
    }
   ],
   "source": [
    "vectorized_stratified_data.show(2, False)"
   ]
  },
  {
   "cell_type": "markdown",
   "metadata": {},
   "source": [
    "## K-fold cross validation"
   ]
  },
  {
   "cell_type": "code",
   "execution_count": 48,
   "metadata": {},
   "outputs": [],
   "source": [
    "def cvComparing(vectorized_train_data, vectorized_test_data, classifiers, paramGrid, numFolds, roundLevel, seed):\n",
    "  names = []\n",
    "  underROC_train = []\n",
    "  # underROC_test = []\n",
    "  f1_train = []\n",
    "  # f1_test = []\n",
    "  wp_train = []\n",
    "  # wp_test = []\n",
    "  wr_train = []\n",
    "  # wr_test = []\n",
    "  acc_train = []\n",
    "  # acc_test = []\n",
    "\n",
    "  evaluatorB = BinaryClassificationEvaluator(rawPredictionCol=\"prediction\", labelCol=\"indexedLabel\")\n",
    "  evaluatorf1 = MulticlassClassificationEvaluator(labelCol=\"indexedLabel\", predictionCol=\"prediction\", metricName=\"f1\") \n",
    "  evaluatorwp = MulticlassClassificationEvaluator(labelCol=\"indexedLabel\", predictionCol=\"prediction\", metricName=\"weightedPrecision\") \n",
    "  evaluatorwr = MulticlassClassificationEvaluator(labelCol=\"indexedLabel\", predictionCol=\"prediction\", metricName=\"weightedRecall\") \n",
    "  evaluatoracc = MulticlassClassificationEvaluator(labelCol=\"indexedLabel\", predictionCol=\"prediction\", metricName=\"accuracy\") \n",
    "\n",
    "  for name, clf in classifiers:\n",
    "    cv = CrossValidator(estimator=clf, estimatorParamMaps=paramGrid, evaluator=evaluatorf1, numFolds=numFolds, seed=seed, collectSubModels=True)\n",
    "    cvModel = cv.fit(vectorized_train_data)  \n",
    "    predict_train = cvModel.transform(vectorized_train_data)\n",
    "    # predict_test = cvModel.transform(vectorized_test_data)\n",
    "    underROC_train.append(evaluatorB.evaluate(predict_train))\n",
    "    # underROC_test.append(evaluatorB.evaluate(predict_test))\n",
    "    f1_train.append(evaluatoracc.evaluate(predict_train))\n",
    "    # f1_test.append(evaluatoracc.evaluate(predict_test))\n",
    "    wp_train.append(evaluatorwp.evaluate(predict_train))\n",
    "    # wp_test.append(evaluatorwp.evaluate(predict_test))\n",
    "    wr_train.append(evaluatorwr.evaluate(predict_train))\n",
    "    # wr_test.append(evaluatorwr.evaluate(predict_test))\n",
    "    acc_train.append(evaluatoracc.evaluate(predict_train))\n",
    "    # acc_test.append(evaluatoracc.evaluate(predict_test))\n",
    "    names.append(name)\n",
    "\n",
    "  #cvResults = spark.createDataFrame(zip(names, underROC_train, underROC_test, acc_train, acc_test, f1_train, f1_test, wp_train, wp_test, wr_train, wr_test), schema=['Classifier name', 'underROC_train', 'underROC_test', 'Accuracy_train', 'Accuracy_test', 'f1_train', 'f1_test', 'wPrecision_train', 'wPrecision_test', 'wRecall_train', 'wRecall_test'])\n",
    "  cvResults = spark.createDataFrame(zip(names, underROC_train, acc_train, f1_train, wp_train, wr_train), schema=['Classifier name', 'underROC_train','Accuracy_train', 'f1_train','wPrecision_train', 'wRecall_train'])\n",
    "  for t in cvResults.dtypes:\n",
    "    if t[1] == 'double':\n",
    "      cvResults = cvResults.withColumn(t[0], F.round(cvResults[t[0]], roundLevel))\n",
    "  \n",
    "  return cvResults"
   ]
  },
  {
   "cell_type": "code",
   "execution_count": 49,
   "metadata": {},
   "outputs": [],
   "source": [
    "from pyspark.ml.classification import LogisticRegression, NaiveBayes, LinearSVC, DecisionTreeClassifier, RandomForestClassifier, GBTClassifier\n",
    "from pyspark.ml.evaluation import BinaryClassificationEvaluator, MulticlassClassificationEvaluator\n",
    "from pyspark.ml.tuning import ParamGridBuilder, CrossValidator\n",
    "\n",
    "paramGrid = ParamGridBuilder().build()\n",
    "classifiers = []\n",
    "##############################################\n",
    "classifiers.append(('LR', LogisticRegression(labelCol='indexedLabel', featuresCol='indexedFeatures')))\n",
    "#classifiers.append(('NB', NaiveBayes(labelCol='indexedLabel', featuresCol='indexedFeatures'))) # Naive Bayes requires nonnegative feature values but found\n",
    "classifiers.append(('SVC', LinearSVC(labelCol='indexedLabel', featuresCol='indexedFeatures')))\n",
    "classifiers.append(('DT', DecisionTreeClassifier(labelCol='indexedLabel', featuresCol='indexedFeatures')))\n",
    "classifiers.append(('RF', RandomForestClassifier(labelCol='indexedLabel', featuresCol='indexedFeatures')))\n",
    "classifiers.append(('GBT', GBTClassifier(labelCol='indexedLabel', featuresCol='indexedFeatures')))\n",
    "##############################################\n",
    "\n",
    "cvResults_data = cvComparing(vectorized_train_data = vectorized_data, vectorized_test_data = '', classifiers = classifiers, paramGrid = paramGrid, numFolds = 5, roundLevel = 3, seed = 123)\n",
    "cvResults_stratified_data = cvComparing(vectorized_train_data = vectorized_stratified_data, vectorized_test_data = '', classifiers = classifiers, paramGrid = paramGrid, numFolds = 5, roundLevel = 3, seed = 123)\n"
   ]
  },
  {
   "cell_type": "code",
   "execution_count": 51,
   "metadata": {},
   "outputs": [
    {
     "name": "stdout",
     "output_type": "stream",
     "text": [
      "                      0      1      2      3      4\n",
      "Classifier name      LR    SVC     DT     RF    GBT\n",
      "underROC_train    0.565  0.508  0.734  0.689  0.843\n",
      "Accuracy_train    0.837  0.835  0.887  0.882  0.935\n",
      "f1_train          0.837  0.835  0.887  0.882  0.935\n",
      "wPrecision_train    0.8  0.844  0.878  0.874  0.933\n",
      "wRecall_train     0.837  0.835  0.887  0.882  0.935\n"
     ]
    },
    {
     "data": {
      "text/plain": [
       "<matplotlib.legend.Legend at 0x74400e0b5208>"
      ]
     },
     "execution_count": 51,
     "metadata": {},
     "output_type": "execute_result"
    },
    {
     "data": {
      "image/png": "[encoded data removed]",
      "text/plain": [
       "<Figure size 864x360 with 1 Axes>"
      ]
     },
     "metadata": {},
     "output_type": "display_data"
    }
   ],
   "source": [
    "print(cvResults_data.toPandas().transpose())\n",
    "cvResults_data_df = cvResults_data.toPandas().set_index('Classifier name')\n",
    "\n",
    "ax = cvResults_data_df.plot.bar(rot=0, figsize=(12,5))\n",
    "ax.legend(loc='center left', bbox_to_anchor=(1, 0.5))"
   ]
  },
  {
   "cell_type": "code",
   "execution_count": 52,
   "metadata": {},
   "outputs": [
    {
     "name": "stdout",
     "output_type": "stream",
     "text": [
      "                      0      1      2      3      4\n",
      "Classifier name      LR    SVC     DT     RF    GBT\n",
      "underROC_train    0.744  0.763  0.847  0.844  0.971\n",
      "Accuracy_train    0.744  0.763  0.847  0.844  0.971\n",
      "f1_train          0.744  0.763  0.847  0.844  0.971\n",
      "wPrecision_train  0.744  0.763  0.847  0.847  0.971\n",
      "wRecall_train     0.744  0.763  0.847  0.844  0.971\n"
     ]
    },
    {
     "data": {
      "text/plain": [
       "<matplotlib.legend.Legend at 0x74400de9c7b8>"
      ]
     },
     "execution_count": 52,
     "metadata": {},
     "output_type": "execute_result"
    },
    {
     "data": {
      "image/png": "[encoded data removed]",
      "text/plain": [
       "<Figure size 864x360 with 1 Axes>"
      ]
     },
     "metadata": {},
     "output_type": "display_data"
    }
   ],
   "source": [
    "print(cvResults_stratified_data.toPandas().transpose())\n",
    "cvResults_stratified_data_df = cvResults_stratified_data.toPandas().set_index('Classifier name')\n",
    "\n",
    "ax = cvResults_stratified_data_df.plot.bar(rot=0, figsize=(12,5))\n",
    "ax.legend(loc='center left', bbox_to_anchor=(1, 0.5))"
   ]
  },
  {
   "cell_type": "code",
   "execution_count": 62,
   "metadata": {},
   "outputs": [],
   "source": [
    "def val_to_list(val):\n",
    "    \"\"\"\n",
    "    Convert a single value string or number to a list\n",
    "    :param val:\n",
    "    :return:\n",
    "    \"\"\"\n",
    "    if val is not None:\n",
    "        if not isinstance(val, list):\n",
    "            val = [val]\n",
    "\n",
    "    return val\n",
    "\n",
    "\n",
    "def one_list_to_val(val):\n",
    "    \"\"\"\n",
    "    Convert a single list element to val\n",
    "    :param val:\n",
    "    :return:\n",
    "    \"\"\"\n",
    "    if isinstance(val, list) and len(val) == 1:\n",
    "        result = val[0]\n",
    "    else:\n",
    "        result = val\n",
    "\n",
    "    return result\n",
    "\n",
    "def name_col(col_names: str, append: str) -> str:\n",
    "    \"\"\"\n",
    "    Whenever you want to name and output user this function. This ensure that we manage and Standard when naming\n",
    "    :param col_names: Column name\n",
    "    :param append: string to be appended\n",
    "    :return:\n",
    "    \"\"\"\n",
    "    separator = \"***\"\n",
    "    append = str(append)\n",
    "    col_names = val_to_list(col_names)\n",
    "    if len(col_names) > 1:\n",
    "        output_col = ('_'.join(str(elem) for elem in col_names))[:10] + separator\n",
    "    else:\n",
    "        output_col = one_list_to_val(col_names)\n",
    "\n",
    "    return output_col + separator + append.upper()"
   ]
  },
  {
   "cell_type": "code",
   "execution_count": 71,
   "metadata": {},
   "outputs": [],
   "source": [
    "def get_OneHot(df, numericCols, labelCol):\n",
    "    inputCols = []\n",
    "    for col_name in numericCols:\n",
    "        col_in = name_col(col_name, \"in\")\n",
    "        col_out = name_col(col_name, \"out\")\n",
    "        discretizer = QuantileDiscretizer(numBuckets=5, inputCol=col_name, outputCol=col_in, handleInvalid=\"skip\")\n",
    "        pyencoder = OneHotEncoderEstimator(inputCols=[col_in], outputCols=[col_out], dropLast=False)\n",
    "        stages = [discretizer, pyencoder]\n",
    "        pipeline = Pipeline(stages=stages)\n",
    "        df = pipeline.fit(df).transform(df)\n",
    "        inputCols.append(col_out)\n",
    "    # Combining a given list of columns into a single vector column features\n",
    "    assembler = VectorAssembler(inputCols=inputCols, outputCol=\"features\")\n",
    "    # Index labels, adding metadata to the label column\n",
    "    indexer = StringIndexer(inputCol=labelCol, outputCol='indexedLabel')\n",
    "    pipeline = Pipeline(stages = [assembler] + [indexer])\n",
    "    model = pipeline.fit(df)\n",
    "    data = model.transform(df)\n",
    "    return data.select('features','indexedLabel')"
   ]
  },
  {
   "cell_type": "code",
   "execution_count": 72,
   "metadata": {},
   "outputs": [],
   "source": [
    "vectorized_data = get_OneHot(df, numericCols, \"Buggy\")"
   ]
  },
  {
   "cell_type": "code",
   "execution_count": 73,
   "metadata": {},
   "outputs": [
    {
     "name": "stdout",
     "output_type": "stream",
     "text": [
      "+--------------------+------------+\n",
      "|            features|indexedLabel|\n",
      "+--------------------+------------+\n",
      "|(351,[3,9,11,15,2...|         0.0|\n",
      "|(351,[3,9,11,15,1...|         1.0|\n",
      "+--------------------+------------+\n",
      "only showing top 2 rows\n",
      "\n"
     ]
    }
   ],
   "source": [
    "vectorized_data.show(2)"
   ]
  },
  {
   "cell_type": "code",
   "execution_count": 75,
   "metadata": {},
   "outputs": [],
   "source": [
    "denek = vectorized_data.withColumnRenamed(\"features\",\"indexedFeatures\")\n",
    "onehotResults = cvComparing(vectorized_train_data = denek, vectorized_test_data = '', classifiers = classifiers, paramGrid = paramGrid, numFolds = 5, roundLevel = 3, seed = 123)"
   ]
  },
  {
   "cell_type": "code",
   "execution_count": 76,
   "metadata": {},
   "outputs": [
    {
     "name": "stdout",
     "output_type": "stream",
     "text": [
      "                      0      1      2      3      4\n",
      "Classifier name      LR    SVC     DT     RF    GBT\n",
      "underROC_train    0.738  0.668  0.707  0.548  0.785\n",
      "Accuracy_train    0.884  0.862  0.882  0.847  0.919\n",
      "f1_train          0.884  0.862  0.882  0.847  0.919\n",
      "wPrecision_train  0.875  0.845  0.872  0.852  0.918\n",
      "wRecall_train     0.884  0.862  0.882  0.847  0.919\n"
     ]
    },
    {
     "data": {
      "text/plain": [
       "<matplotlib.legend.Legend at 0x74404935e860>"
      ]
     },
     "execution_count": 76,
     "metadata": {},
     "output_type": "execute_result"
    },
    {
     "data": {
      "image/png": "[encoded data removed]",
      "text/plain": [
       "<Figure size 864x360 with 1 Axes>"
      ]
     },
     "metadata": {},
     "output_type": "display_data"
    }
   ],
   "source": [
    "print(onehotResults.toPandas().transpose())\n",
    "onehotResults_df = onehotResults.toPandas().set_index('Classifier name')\n",
    "\n",
    "ax = onehotResults_df.plot.bar(rot=0, figsize=(12,5))\n",
    "ax.legend(loc='center left', bbox_to_anchor=(1, 0.5))"
   ]
  },
  {
   "cell_type": "code",
   "execution_count": 77,
   "metadata": {},
   "outputs": [],
   "source": [
    "# Degree with two\n",
    "polynomialexpansion = PolynomialExpansion(degree = 2, inputCol=\"features\", outputCol=\"indexedFeatures\")\n",
    "record = polynomialexpansion.transform(vectorized_data)\n",
    "record = record.drop(\"features\")"
   ]
  },
  {
   "cell_type": "code",
   "execution_count": 78,
   "metadata": {},
   "outputs": [
    {
     "name": "stdout",
     "output_type": "stream",
     "text": [
      "+------------+--------------------+\n",
      "|indexedLabel|     indexedFeatures|\n",
      "+------------+--------------------+\n",
      "|         0.0|(62127,[9,13,54,5...|\n",
      "|         1.0|(62127,[9,13,54,5...|\n",
      "|         1.0|(62127,[14,19,54,...|\n",
      "|         0.0|(62127,[0,1,35,36...|\n",
      "|         1.0|(62127,[9,13,54,5...|\n",
      "+------------+--------------------+\n",
      "only showing top 5 rows\n",
      "\n"
     ]
    }
   ],
   "source": [
    "record.show(5)"
   ]
  },
  {
   "cell_type": "code",
   "execution_count": 79,
   "metadata": {},
   "outputs": [],
   "source": [
    "polynomialResults = cvComparing(vectorized_train_data = record, vectorized_test_data = '', classifiers = classifiers, paramGrid = paramGrid, numFolds = 3, roundLevel = 3, seed = 123)"
   ]
  },
  {
   "cell_type": "code",
   "execution_count": 80,
   "metadata": {},
   "outputs": [
    {
     "name": "stdout",
     "output_type": "stream",
     "text": [
      "                   0    1      2      3      4\n",
      "Classifier name   LR  SVC     DT     RF    GBT\n",
      "underROC_train     1    1  0.721   0.66  0.852\n",
      "Accuracy_train     1    1  0.895  0.883  0.945\n",
      "f1_train           1    1  0.895  0.883  0.945\n",
      "wPrecision_train   1    1  0.891  0.889  0.946\n",
      "wRecall_train      1    1  0.895  0.883  0.945\n"
     ]
    },
    {
     "data": {
      "text/plain": [
       "<matplotlib.legend.Legend at 0x7440492a6ac8>"
      ]
     },
     "execution_count": 80,
     "metadata": {},
     "output_type": "execute_result"
    },
    {
     "data": {
      "image/png": "[encoded data removed]",
      "text/plain": [
       "<Figure size 864x360 with 1 Axes>"
      ]
     },
     "metadata": {},
     "output_type": "display_data"
    }
   ],
   "source": [
    "print(polynomialResults.toPandas().transpose())\n",
    "polynomialResults_df = polynomialResults.toPandas().set_index('Classifier name')\n",
    "\n",
    "ax = polynomialResults_df.plot.bar(rot=0, figsize=(12,5))\n",
    "ax.legend(loc='center left', bbox_to_anchor=(1, 0.5))"
   ]
  },
  {
   "cell_type": "code",
   "execution_count": null,
   "metadata": {},
   "outputs": [],
   "source": []
  }
 ],
 "metadata": {
  "kernelspec": {
   "display_name": "Python 3",
   "language": "python",
   "name": "python3"
  },
  "language_info": {
   "codemirror_mode": {
    "name": "ipython",
    "version": 3
   },
   "file_extension": ".py",
   "mimetype": "text/x-python",
   "name": "python",
   "nbconvert_exporter": "python",
   "pygments_lexer": "ipython3",
   "version": "3.7.3"
  }
 },
 "nbformat": 4,
 "nbformat_minor": 2
}
